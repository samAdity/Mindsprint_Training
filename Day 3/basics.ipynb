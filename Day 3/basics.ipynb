{
 "cells": [
  {
   "cell_type": "code",
   "execution_count": 1,
   "id": "5536051b-12c7-42cd-be45-1ab6177d01f3",
   "metadata": {},
   "outputs": [
    {
     "name": "stdout",
     "output_type": "stream",
     "text": [
      "Hello World!\n"
     ]
    }
   ],
   "source": [
    "print(\"Hello World!\")\n"
   ]
  },
  {
   "cell_type": "code",
   "execution_count": 14,
   "id": "4d7d0840-1049-4b6a-96aa-2de169a6ab01",
   "metadata": {},
   "outputs": [],
   "source": [
    "a = 10\n",
    "b = 3"
   ]
  },
  {
   "cell_type": "code",
   "execution_count": 15,
   "id": "06f0c17e-0288-47ed-941b-b6499c2ddc03",
   "metadata": {},
   "outputs": [
    {
     "name": "stdout",
     "output_type": "stream",
     "text": [
      "13\n"
     ]
    }
   ],
   "source": [
    "print(a+b)"
   ]
  },
  {
   "cell_type": "code",
   "execution_count": 16,
   "id": "d1bee94b-505b-4ffe-bca5-a3b4addda88d",
   "metadata": {},
   "outputs": [
    {
     "name": "stdout",
     "output_type": "stream",
     "text": [
      "The sum is :  34.3\n"
     ]
    }
   ],
   "source": [
    "# Variables\n",
    "a= 23\n",
    "b = 11.3\n",
    "print(\"The sum is : \", a+b)"
   ]
  },
  {
   "cell_type": "code",
   "execution_count": 90,
   "id": "29c21419-78d4-4931-9ed1-41594c2077b6",
   "metadata": {},
   "outputs": [
    {
     "name": "stdout",
     "output_type": "stream",
     "text": [
      "Number 1 :  10\n",
      "Number 2 :  20.89\n",
      "Name :  Mindsprint\n",
      "<class 'int'>\n",
      "<class 'float'>\n",
      "<class 'str'>\n"
     ]
    }
   ],
   "source": [
    "num1 = 10\n",
    "num2 = 20.89\n",
    "name = \"Mindsprint\"\n",
    "\n",
    "print(\"Number 1 : \",num1)\n",
    "print(\"Number 2 : \",num2)\n",
    "print(\"Name : \",name)\n",
    "\n",
    "print(type(num1))\n",
    "print(type(num2))\n",
    "print(type(name))"
   ]
  },
  {
   "cell_type": "code",
   "execution_count": 10,
   "id": "800f5dca-df26-49fc-8bd1-46b4e497a38c",
   "metadata": {},
   "outputs": [
    {
     "name": "stdout",
     "output_type": "stream",
     "text": [
      "Orange Banana Apple\n"
     ]
    }
   ],
   "source": [
    "x,y,z = \"Orange\",\"Banana\", \"Apple\"\n",
    "print(x, y,z)"
   ]
  },
  {
   "cell_type": "code",
   "execution_count": 11,
   "id": "24505dfa-4706-4608-b624-8ad5984a9f1b",
   "metadata": {},
   "outputs": [
    {
     "name": "stdout",
     "output_type": "stream",
     "text": [
      "Orange Orange Orange\n"
     ]
    }
   ],
   "source": [
    "x=y=z=\"Orange\"\n",
    "print(x,y,z)"
   ]
  },
  {
   "cell_type": "code",
   "execution_count": 17,
   "id": "cc759b5a-043a-4f53-a4dd-e8cf159a4dcd",
   "metadata": {
    "scrolled": true
   },
   "outputs": [
    {
     "name": "stdout",
     "output_type": "stream",
     "text": [
      "apple\n",
      "apple banana orange\n",
      "applebananaorange\n"
     ]
    }
   ],
   "source": [
    "fruits =[\"apple\",\"banana\",\"orange\"]\n",
    "x,y,z = fruits\n",
    "print(x)\n",
    "print(x,y,z)\n",
    "print(x+y+z)"
   ]
  },
  {
   "cell_type": "code",
   "execution_count": 21,
   "id": "0cc39698-e80f-41ee-b4f4-bc8211111025",
   "metadata": {},
   "outputs": [
    {
     "name": "stdin",
     "output_type": "stream",
     "text": [
      "Enter First Number 10\n",
      "Enter Second Number 3\n"
     ]
    },
    {
     "name": "stdout",
     "output_type": "stream",
     "text": [
      "Addition :  13\n",
      "Subtraction :  7\n",
      "Multiplication :  30\n",
      "Division :  3.3333333333333335\n",
      "Exponentention :  1000\n",
      "Modulus :  1\n",
      "Floor_Division :  3\n"
     ]
    }
   ],
   "source": [
    "# Taking input from user in String format as default\n",
    "number1 = int(input(\"Enter First Number\"))\n",
    "number2 = int(input(\"Enter Second Number\"))\n",
    "\n",
    "print(\"Addition : \", number1 + number2)\n",
    "print(\"Subtraction : \", number1 - number2)\n",
    "print(\"Multiplication : \", number1 * number2)\n",
    "print(\"Division : \", number1 / number2)\n",
    "print(\"Exponentention : \", number1 ** number2)\n",
    "print(\"Modulus : \", number1 % number2)\n",
    "print(\"Floor_Division : \", number1 // number2)"
   ]
  },
  {
   "cell_type": "code",
   "execution_count": 27,
   "id": "a6869d37-c165-4e4c-ba70-04d00d0068bd",
   "metadata": {},
   "outputs": [
    {
     "name": "stdin",
     "output_type": "stream",
     "text": [
      "Enter First Number :  23\n",
      "Enter Second Number :  23\n"
     ]
    },
    {
     "name": "stdout",
     "output_type": "stream",
     "text": [
      "Is num1 equal to num2? True\n",
      "Is num1 not equal to num2? False\n",
      "Is num1 greater than num2? False\n",
      "Is num1 less than num2? False\n",
      "Is num1 greater than or equal to num2? True\n",
      "Is num1 less than or equal to num2? True\n"
     ]
    }
   ],
   "source": [
    "#  Relational Operator\n",
    "num3 = int(input(\"Enter First Number : \"))\n",
    "num4 = int(input(\"Enter Second Number : \"))\n",
    "print(\"Is num1 equal to num2?\", num3 == num4)\n",
    "print(\"Is num1 not equal to num2?\", num3 != num4)\n",
    "print(\"Is num1 greater than num2?\", num3 > num4)\n",
    "print(\"Is num1 less than num2?\", num3 < num4)\n",
    "print(\"Is num1 greater than or equal to num2?\", num3 >= num4)\n",
    "print(\"Is num1 less than or equal to num2?\", num2 <= num4)"
   ]
  },
  {
   "cell_type": "code",
   "execution_count": 30,
   "id": "23b6720a-56b5-45c3-9787-e1d73ceeed9f",
   "metadata": {},
   "outputs": [
    {
     "name": "stdout",
     "output_type": "stream",
     "text": [
      "intial value :  10\n",
      "After increment :  15\n",
      "After decrement :  10\n"
     ]
    }
   ],
   "source": [
    "num5 = 10\n",
    "print('intial value : ',num5)\n",
    "num5 += 5\n",
    "print('After increment : ',num5)\n",
    "num5 -= 5\n",
    "print('After decrement : ', num5)"
   ]
  },
  {
   "cell_type": "code",
   "execution_count": 32,
   "id": "b8885b8a-f05a-47d9-8798-bb71629aa08a",
   "metadata": {},
   "outputs": [
    {
     "name": "stdin",
     "output_type": "stream",
     "text": [
      "Enter your Email admin@123\n",
      "Enter your Password admin@123\n"
     ]
    },
    {
     "name": "stdout",
     "output_type": "stream",
     "text": [
      "Wrong Credentials\n"
     ]
    }
   ],
   "source": [
    "email = input(\"Enter your Email\")\n",
    "password = input(\"Enter your Password\")\n",
    "\n",
    "if email == 'admin@gmail.com' and password == 'admin@123':\n",
    "    print(\"Access Granted\")\n",
    "else:\n",
    "    print(\"Wrong Credentials\")\n",
    "    "
   ]
  },
  {
   "cell_type": "code",
   "execution_count": 35,
   "id": "1b5d5311-3baa-47c1-ba8b-31bf06f1c1f6",
   "metadata": {},
   "outputs": [
    {
     "name": "stdout",
     "output_type": "stream",
     "text": [
      "Positive\n",
      "Positive\n"
     ]
    }
   ],
   "source": [
    "# Ternary Operator Shorthand\n",
    "\n",
    "num = 5\n",
    "print(\"Positive\") if num >=0 else print(\"Negative\")\n",
    "\n",
    "# ShortHand if else\n",
    "\n",
    "result = \"Positive\" if num >= 0 else \"Negative\"\n",
    "print(result)"
   ]
  },
  {
   "cell_type": "code",
   "execution_count": 36,
   "id": "25ad0eee-81c6-4ea6-bb37-36be7a585a2e",
   "metadata": {},
   "outputs": [
    {
     "name": "stdout",
     "output_type": "stream",
     "text": [
      "Positive and Odd Number\n"
     ]
    }
   ],
   "source": [
    "# Nested If\n",
    "\n",
    "num = 15\n",
    "if num > 0:\n",
    "    if num % 2 == 0:\n",
    "        print(\"Positive and Even Number\")\n",
    "    else:\n",
    "        print(\"Positive and Odd Number\")\n",
    "else:\n",
    "    print(\"Negative Number\")"
   ]
  },
  {
   "cell_type": "code",
   "execution_count": 38,
   "id": "081ba345-1fb6-4569-9e1b-f0f85922d2a0",
   "metadata": {},
   "outputs": [],
   "source": [
    "# Pass Statement\n",
    "num = 5\n",
    "if num > 0:\n",
    "    pass\n",
    "else:\n",
    "    print(\"Wont Execute\")"
   ]
  },
  {
   "cell_type": "code",
   "execution_count": 45,
   "id": "5dab62d7-b2cc-4741-9627-35c742df5982",
   "metadata": {},
   "outputs": [
    {
     "name": "stdin",
     "output_type": "stream",
     "text": [
      "Enter your Grades 90.45\n"
     ]
    },
    {
     "name": "stdout",
     "output_type": "stream",
     "text": [
      "Grade A\n"
     ]
    }
   ],
   "source": [
    "# Activity 1\n",
    "\n",
    "grade = float(input(\"Enter your Grades\"))\n",
    "\n",
    "if grade >= 90 and grade <= 100:\n",
    "            print(\"Grade A\")\n",
    "elif grade >= 89 and grade <= 70:\n",
    "            print(\"Grade B\")\n",
    "elif grade >= 69 and grade <= 50:\n",
    "            print(\"Grade C\")\n",
    "else:\n",
    "            print(\"Fail\")"
   ]
  },
  {
   "cell_type": "code",
   "execution_count": 49,
   "id": "f4ca5656-c983-4e64-b49c-69719461beb3",
   "metadata": {},
   "outputs": [
    {
     "name": "stdin",
     "output_type": "stream",
     "text": [
      "Enter number : -20\n"
     ]
    },
    {
     "name": "stdout",
     "output_type": "stream",
     "text": [
      "Negative Number Less than -10\n"
     ]
    }
   ],
   "source": [
    "# Activity 2\n",
    "\n",
    "number = int(input(\"Enter number :\"))\n",
    "if number > 0:\n",
    "    if number % 2 == 0:\n",
    "        print(\"Positive and Even Number\")\n",
    "    else:\n",
    "        print(\"Positive and Odd Number\")\n",
    "elif number == 0:\n",
    "    print(\"It's Zero.\")\n",
    "else:\n",
    "    if number < -10:\n",
    "        print(\"Negative Number Less than -10\")\n",
    "    else:\n",
    "        print(\"Negative Number but Not less than -10\")"
   ]
  },
  {
   "cell_type": "code",
   "execution_count": 56,
   "id": "9b81a10e-accf-461c-93b1-a439dbaac47b",
   "metadata": {},
   "outputs": [
    {
     "name": "stdin",
     "output_type": "stream",
     "text": [
      "Enter Price : 900.45\n"
     ]
    },
    {
     "name": "stdout",
     "output_type": "stream",
     "text": [
      "Discount : 180.09 \n",
      "Final Price : 720.36\n"
     ]
    }
   ],
   "source": [
    "# Activity 3\n",
    "\n",
    "price = float(input(\"Enter Price :\"))\n",
    "if price > 500 :\n",
    "              discount = (20 * price) / 100\n",
    "elif price >= 200 <= 500:\n",
    "              discount = (10 * price) / 100\n",
    "else:\n",
    "              discount = 0\n",
    "\n",
    "print(f\"Discount : {discount} \\nFinal Price : {price - discount}\")"
   ]
  },
  {
   "cell_type": "code",
   "execution_count": 65,
   "id": "f1ba228a-fd0c-4708-b302-9df031916b22",
   "metadata": {},
   "outputs": [
    {
     "name": "stdout",
     "output_type": "stream",
     "text": [
      "1 2 3 4 5 6 7 8 9 10 \n",
      "Number : 1\n",
      "Number : 2\n",
      "Number : 3\n",
      "Number : 4\n",
      "Number : 5\n",
      "Number : 6\n",
      "Number : 7\n",
      "Number : 8\n",
      "Number : 9\n",
      "Number : 10"
     ]
    }
   ],
   "source": [
    "# Loop\n",
    "num = 1\n",
    "while num <= 10:\n",
    "    print(num , end = \" \")\n",
    "    num +=1\n",
    "\n",
    "for i in range(1,11):\n",
    "    print(\"\\nNumber :\", i, end = \"\")"
   ]
  },
  {
   "cell_type": "code",
   "execution_count": 70,
   "id": "e2f22c30-2257-43d2-80d1-00e78d625588",
   "metadata": {},
   "outputs": [
    {
     "name": "stdout",
     "output_type": "stream",
     "text": [
      "Number is : 1\n",
      "Number is : 2\n",
      "Number is : 3\n",
      "Number is : 4\n",
      "We reached the limit\n",
      "Number : 0\n",
      "Number : 1\n",
      "Number : 2\n",
      "Break\n"
     ]
    }
   ],
   "source": [
    "# Using Break Statement\n",
    "\n",
    "for i in range (1,10):\n",
    "    if i == 5:\n",
    "        print(\"We reached the limit\")\n",
    "        break\n",
    "    print(\"Number is :\", i) \n",
    "    \n",
    "count = 0\n",
    "while count <= 5:\n",
    "    if count == 3:\n",
    "        print(\"Break\")\n",
    "        break\n",
    "    else:\n",
    "        print(\"Number :\", count)\n",
    "    count += 1    "
   ]
  },
  {
   "cell_type": "code",
   "execution_count": 72,
   "id": "5babd88e-4e22-4bad-ae5e-780c52215cb3",
   "metadata": {},
   "outputs": [
    {
     "name": "stdin",
     "output_type": "stream",
     "text": [
      "Enter First Number 2\n",
      "Enter Second Number 10\n"
     ]
    },
    {
     "name": "stdout",
     "output_type": "stream",
     "text": [
      "Sum is : 30\n"
     ]
    }
   ],
   "source": [
    "# Task 1\n",
    "\n",
    "num1 = int(input(\"Enter First Number\"))\n",
    "num2 = int(input(\"Enter Second Number\"))\n",
    "sumN = 0\n",
    "for i in range (num1, num2 + 1):\n",
    "    if i % 2 == 0:\n",
    "        sumN += i\n",
    "\n",
    "print(\"Sum is :\", sumN);"
   ]
  },
  {
   "cell_type": "code",
   "execution_count": 80,
   "id": "f464af5e-e28d-4a53-8277-d7c51b97a148",
   "metadata": {},
   "outputs": [
    {
     "name": "stdin",
     "output_type": "stream",
     "text": [
      "Enter number: 5\n"
     ]
    },
    {
     "name": "stdout",
     "output_type": "stream",
     "text": [
      "1 \n",
      "1 2 \n",
      "1 2 3 \n",
      "1 2 3 4 \n",
      "1 2 3 4 5 \n"
     ]
    }
   ],
   "source": [
    "# Task 2\n",
    "\n",
    "n = int(input(\"Enter number:\"))\n",
    "\n",
    "for i in range(1, n + 1 ):\n",
    "        for j in range(1, i + 1):\n",
    "            print(j, end = \" \")\n",
    "        print()"
   ]
  },
  {
   "cell_type": "code",
   "execution_count": 81,
   "id": "6b92fa58-7db2-42da-bdae-b6f03999521f",
   "metadata": {},
   "outputs": [
    {
     "name": "stdout",
     "output_type": "stream",
     "text": [
      "Hello World!\n",
      "Good Evening, Paras\n"
     ]
    }
   ],
   "source": [
    "# Simple Function\n",
    "\n",
    "def hello():\n",
    "    print(\"Hello World!\")\n",
    "\n",
    "hello()\n",
    "\n",
    "# Parameterized Function\n",
    "\n",
    "def greet(name):\n",
    "    print(\"Good Evening,\", name)\n",
    "\n",
    "greet(\"Paras\")\n",
    "    "
   ]
  },
  {
   "cell_type": "code",
   "execution_count": 82,
   "id": "1927e8c1-af22-40a2-ab90-48d6dc8bc018",
   "metadata": {},
   "outputs": [
    {
     "name": "stdout",
     "output_type": "stream",
     "text": [
      "Hello, Paras!\n",
      "Hello, Paras Budhiraja!\n"
     ]
    }
   ],
   "source": [
    "# Default Parameter\n",
    "\n",
    "def greet(name = 'Paras'):\n",
    "    print(f\"Hello, {name}!\")\n",
    "\n",
    "greet()\n",
    "greet(\"Paras Budhiraja\")"
   ]
  },
  {
   "cell_type": "code",
   "execution_count": 85,
   "id": "9efac149-5419-4e24-9b2b-364f70975aed",
   "metadata": {},
   "outputs": [
    {
     "name": "stdout",
     "output_type": "stream",
     "text": [
      "Rohit is 67 years old and lives in Rohtak.\n"
     ]
    }
   ],
   "source": [
    "# Passing arguments using Keywords\n",
    "\n",
    "def describe_person(name, age, city):\n",
    "    print(f\"{name} is {age} years old and lives in {city}.\")\n",
    "\n",
    "# Calling using Keyword argument\n",
    "describe_person(age = 67, name = \"Rohit\", city = \"Rohtak\")"
   ]
  },
  {
   "cell_type": "code",
   "execution_count": 88,
   "id": "9ff7e0e4-1557-419b-80c1-b98118e33c7c",
   "metadata": {},
   "outputs": [
    {
     "name": "stdin",
     "output_type": "stream",
     "text": [
      "Enter your Email admin@gmail.com\n",
      "Enter your Password admin@123\n"
     ]
    },
    {
     "name": "stdout",
     "output_type": "stream",
     "text": [
      "Access Granted\n"
     ]
    }
   ],
   "source": [
    "# Task 3\n",
    "def check(email,password):    \n",
    "    if email == 'admin@gmail.com' and password == 'admin@123':\n",
    "        print(\"Access Granted\")\n",
    "    else:\n",
    "        print(\"Wrong Credentials\")\n",
    "def details():\n",
    "    email = input(\"Enter your Email\")\n",
    "    password = input(\"Enter your Password\")\n",
    "    check(email,password)\n",
    "\n",
    "details()    "
   ]
  },
  {
   "cell_type": "code",
   "execution_count": 89,
   "id": "bd3a359c-7c93-4b2f-a823-f6ad527bf207",
   "metadata": {},
   "outputs": [
    {
     "name": "stdout",
     "output_type": "stream",
     "text": [
      "24\n"
     ]
    }
   ],
   "source": [
    "# Recursive Function\n",
    "\n",
    "def fact(num):\n",
    "    if num <= 1:\n",
    "        return 1\n",
    "    else:\n",
    "        return num * fact(num - 1)\n",
    "\n",
    "print(fact(4))\n",
    "        "
   ]
  }
 ],
 "metadata": {
  "kernelspec": {
   "display_name": "Python 3 (ipykernel)",
   "language": "python",
   "name": "python3"
  },
  "language_info": {
   "codemirror_mode": {
    "name": "ipython",
    "version": 3
   },
   "file_extension": ".py",
   "mimetype": "text/x-python",
   "name": "python",
   "nbconvert_exporter": "python",
   "pygments_lexer": "ipython3",
   "version": "3.13.2"
  }
 },
 "nbformat": 4,
 "nbformat_minor": 5
}
