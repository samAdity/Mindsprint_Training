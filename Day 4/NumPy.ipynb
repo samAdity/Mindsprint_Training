{
 "cells": [
  {
   "cell_type": "code",
   "execution_count": 5,
   "id": "1e451c78-b1a9-4295-a349-d778b8cd7e96",
   "metadata": {},
   "outputs": [
    {
     "name": "stdout",
     "output_type": "stream",
     "text": [
      "2.2.3\n"
     ]
    }
   ],
   "source": [
    "# NumPy -- Library for numerical computing\n",
    "\n",
    "import numpy as np\n",
    "print(np.__version__)"
   ]
  },
  {
   "cell_type": "code",
   "execution_count": 8,
   "id": "8bda19c2-3ba8-4ab4-a606-e51f7c3fa6ce",
   "metadata": {},
   "outputs": [
    {
     "name": "stdout",
     "output_type": "stream",
     "text": [
      "[10 20 30 40 50]\n",
      "Type : <class 'numpy.ndarray'>\n",
      "Shape : (5,)\n"
     ]
    }
   ],
   "source": [
    "# 1D array\n",
    "\n",
    "arr = np.array([10,20,30,40,50])\n",
    "print(arr)\n",
    "print('Type :', type(arr))\n",
    "print('Shape :',arr.shape) "
   ]
  },
  {
   "cell_type": "code",
   "execution_count": 17,
   "id": "9c6fe968-0ab5-497e-8a58-997a106d2b58",
   "metadata": {},
   "outputs": [
    {
     "name": "stdout",
     "output_type": "stream",
     "text": [
      "[[1 2 3 4]\n",
      " [4 5 6 7]]\n",
      "Shape : (2, 4)\n",
      "Size : 8\n",
      "[1 2 3 4]\n",
      "3\n"
     ]
    }
   ],
   "source": [
    "# 2D array\n",
    "arr2 = np.array([[1,2,3,4],[4,5,6,7]])\n",
    "print(arr2)\n",
    "\n",
    "print('Shape :',arr2.shape)\n",
    "print('Size :',arr2.size)\n",
    "print(arr2[0])\n",
    "print(arr2[0][2])"
   ]
  },
  {
   "cell_type": "code",
   "execution_count": 28,
   "id": "9e992bb7-bdc5-4895-a044-aa6194119baa",
   "metadata": {},
   "outputs": [
    {
     "name": "stdout",
     "output_type": "stream",
     "text": [
      "[[0. 0. 0.]\n",
      " [0. 0. 0.]]\n",
      "[[1. 1. 1. 1.]\n",
      " [1. 1. 1. 1.]\n",
      " [1. 1. 1. 1.]]\n",
      "1.0\n"
     ]
    }
   ],
   "source": [
    "# Generate Arrays\n",
    "\n",
    "arr1 = np.zeros((2,3))\n",
    "print(arr1)\n",
    "\n",
    "arr2 = np.ones((3,4))\n",
    "print(arr2)\n",
    "\n",
    "print(arr2[0][1])"
   ]
  },
  {
   "cell_type": "code",
   "execution_count": 33,
   "id": "94f9d3b3-b12a-498e-9c41-5fc62ec51efb",
   "metadata": {},
   "outputs": [
    {
     "name": "stdout",
     "output_type": "stream",
     "text": [
      "[1 4 7]\n"
     ]
    }
   ],
   "source": [
    "arr3 = np.arange(1,10,3)\n",
    "print(arr3)"
   ]
  },
  {
   "cell_type": "code",
   "execution_count": 34,
   "id": "3d2b64d3-bc93-4fbf-b027-a1043f6eca2b",
   "metadata": {},
   "outputs": [
    {
     "name": "stdout",
     "output_type": "stream",
     "text": [
      "[[ 1  6 11 16]\n",
      " [ 2  4  6  8]]\n"
     ]
    }
   ],
   "source": [
    "sample = np.array([np.arange(1,20,5), np.arange(2,10,2)])\n",
    "print(sample)"
   ]
  },
  {
   "cell_type": "code",
   "execution_count": 42,
   "id": "e7818dc6-913c-482c-a6be-f4bbc4c51fbd",
   "metadata": {},
   "outputs": [
    {
     "name": "stdout",
     "output_type": "stream",
     "text": [
      "[ 3  9 15]\n",
      "[ 2 20 56]\n",
      "[ 1 16 49]\n"
     ]
    }
   ],
   "source": [
    "# Operations\n",
    "\n",
    "arr4 = np.arange(1,10,3)\n",
    "arr5 = np.arange(2,10,3)\n",
    "\n",
    "print(arr5+arr4)\n",
    "print((arr5 * arr4))\n",
    "print((arr4 ** 2))"
   ]
  },
  {
   "cell_type": "code",
   "execution_count": 40,
   "id": "8564680f-545a-471d-aaef-214c53e0979c",
   "metadata": {},
   "outputs": [
    {
     "name": "stdout",
     "output_type": "stream",
     "text": [
      "Total Spend : [ 450  950  450 1650  230]\n",
      "Average Spend : [150.         316.66666667 150.         550.          76.66666667]\n",
      "550.0\n"
     ]
    }
   ],
   "source": [
    "purchases = np.array([\n",
    "    [200,150,100],[300,250,400],[100,200,150],[500,600,550],[50,80,100]])\n",
    "\n",
    "total_spend = purchases.sum(axis = 1)\n",
    "\n",
    "average_spend = purchases.mean(axis = 1)\n",
    "\n",
    "print('Total Spend :', total_spend)\n",
    "print('Average Spend :', average_spend)\n",
    "print(max(average_spend))"
   ]
  },
  {
   "cell_type": "code",
   "execution_count": 44,
   "id": "d6c498e4-814d-426c-a6b0-86afd68a72cb",
   "metadata": {},
   "outputs": [
    {
     "name": "stdout",
     "output_type": "stream",
     "text": [
      "Solution (x,y): [4. 3.]\n"
     ]
    }
   ],
   "source": [
    "# 2x + 3y = 8\n",
    "# 4x + y = 10\n",
    "\n",
    "# Coefficients of variables\n",
    "A = np.array([[2,3],[4,1]])\n",
    "\n",
    "# Constants on right side\n",
    "B = np.array([17,19])\n",
    "\n",
    "# Solve for x and y\n",
    "solution = np.linalg.solve(A,B) # linalg -- linear algorithm\n",
    "print('Solution (x,y):', solution)"
   ]
  },
  {
   "cell_type": "code",
   "execution_count": 63,
   "id": "dd6fe2ec-0cfc-41aa-973a-247eed6b2bae",
   "metadata": {},
   "outputs": [
    {
     "name": "stdout",
     "output_type": "stream",
     "text": [
      "Total Sales : 15950\n",
      "Average Sales : 1595.0\n",
      "Minimum Sales : 1000\n",
      "Maximum Sales : 2050\n",
      "Sales Higher than Average : [1800 1750 1600 1700 2050 2000]\n",
      "Updated Sales : [1100. 1980. 1650. 1210. 1925. 1760. 1870. 2255. 2200. 1595.]\n",
      "Sorted Sales : [1000 1100 1450 1500 1600 1700 1750 1800 2000 2050]\n"
     ]
    }
   ],
   "source": [
    "sales = np.array([1000, 1800, 1500, 1100, 1750, 1600, 1700, 2050, 2000, 1450])\n",
    "\n",
    "print('Total Sales :',np.sum(sales))\n",
    "print('Average Sales :',np.average(sales))\n",
    "print('Minimum Sales :',np.min(sales))\n",
    "print('Maximum Sales :',np.max(sales))\n",
    "\n",
    "print('Sales Higher than Average :',sales[sales > np.average(sales)])\n",
    "\n",
    "updated = sales * 1.1\n",
    "print(\"Updated Sales :\",updated)\n",
    "\n",
    "print('Sorted Sales :',np.sort(sales))"
   ]
  }
 ],
 "metadata": {
  "kernelspec": {
   "display_name": "Python 3 (ipykernel)",
   "language": "python",
   "name": "python3"
  },
  "language_info": {
   "codemirror_mode": {
    "name": "ipython",
    "version": 3
   },
   "file_extension": ".py",
   "mimetype": "text/x-python",
   "name": "python",
   "nbconvert_exporter": "python",
   "pygments_lexer": "ipython3",
   "version": "3.13.2"
  }
 },
 "nbformat": 4,
 "nbformat_minor": 5
}
