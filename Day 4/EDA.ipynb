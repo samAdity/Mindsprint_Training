{
 "cells": [
  {
   "cell_type": "code",
   "execution_count": 1,
   "id": "c837bd0e-4af1-4ad7-a53b-03348e036a63",
   "metadata": {},
   "outputs": [
    {
     "name": "stdout",
     "output_type": "stream",
     "text": [
      "2.2.3\n"
     ]
    }
   ],
   "source": [
    "import pandas as pd\n",
    "print (pd.__version__)"
   ]
  },
  {
   "cell_type": "code",
   "execution_count": 4,
   "id": "00326b8c-b89b-4100-8252-51f47fe2135a",
   "metadata": {},
   "outputs": [
    {
     "name": "stdout",
     "output_type": "stream",
     "text": [
      "   Order_ID       Product     Category  Quantity  Price  Total_Amount  \\\n",
      "0      1001        Laptop  Electronics         2    700           NaN   \n",
      "1      1002  Mobile Phone  Electronics         1    500           NaN   \n",
      "2      1003    Headphones  Accessories         3     50           NaN   \n",
      "3      1004         Mouse  Accessories         2     20           NaN   \n",
      "4      1005      Keyboard  Accessories         1     30           NaN   \n",
      "5      1006       T-shirt     Clothing         4     15           NaN   \n",
      "6      1007        Jacket     Clothing         1     60           NaN   \n",
      "7      1008  Refrigerator  Electronics         1    900           NaN   \n",
      "8      1009            TV  Electronics         2   1100           NaN   \n",
      "9      1010         Shoes     Clothing         2     40           NaN   \n",
      "\n",
      "         Date  \n",
      "0  2024-02-01  \n",
      "1  2024-02-02  \n",
      "2  2024-02-03  \n",
      "3  2024-02-04  \n",
      "4  2024-02-05  \n",
      "5  2024-02-06  \n",
      "6  2024-02-07  \n",
      "7  2024-02-08  \n",
      "8  2024-02-09  \n",
      "9  2024-02-10  \n"
     ]
    }
   ],
   "source": [
    "sales_data2 = pd.read_csv('sales_data.csv')\n",
    "print(sales_data2)"
   ]
  },
  {
   "cell_type": "code",
   "execution_count": 5,
   "id": "b2dcc4c6-4e61-4a4c-a418-d3fe1d04496d",
   "metadata": {},
   "outputs": [
    {
     "data": {
      "text/html": [
       "<div>\n",
       "<style scoped>\n",
       "    .dataframe tbody tr th:only-of-type {\n",
       "        vertical-align: middle;\n",
       "    }\n",
       "\n",
       "    .dataframe tbody tr th {\n",
       "        vertical-align: top;\n",
       "    }\n",
       "\n",
       "    .dataframe thead th {\n",
       "        text-align: right;\n",
       "    }\n",
       "</style>\n",
       "<table border=\"1\" class=\"dataframe\">\n",
       "  <thead>\n",
       "    <tr style=\"text-align: right;\">\n",
       "      <th></th>\n",
       "      <th>Order_ID</th>\n",
       "      <th>Product</th>\n",
       "      <th>Category</th>\n",
       "      <th>Quantity</th>\n",
       "      <th>Price</th>\n",
       "      <th>Total_Amount</th>\n",
       "      <th>Date</th>\n",
       "    </tr>\n",
       "  </thead>\n",
       "  <tbody>\n",
       "    <tr>\n",
       "      <th>0</th>\n",
       "      <td>False</td>\n",
       "      <td>False</td>\n",
       "      <td>False</td>\n",
       "      <td>False</td>\n",
       "      <td>False</td>\n",
       "      <td>True</td>\n",
       "      <td>False</td>\n",
       "    </tr>\n",
       "    <tr>\n",
       "      <th>1</th>\n",
       "      <td>False</td>\n",
       "      <td>False</td>\n",
       "      <td>False</td>\n",
       "      <td>False</td>\n",
       "      <td>False</td>\n",
       "      <td>True</td>\n",
       "      <td>False</td>\n",
       "    </tr>\n",
       "    <tr>\n",
       "      <th>2</th>\n",
       "      <td>False</td>\n",
       "      <td>False</td>\n",
       "      <td>False</td>\n",
       "      <td>False</td>\n",
       "      <td>False</td>\n",
       "      <td>True</td>\n",
       "      <td>False</td>\n",
       "    </tr>\n",
       "    <tr>\n",
       "      <th>3</th>\n",
       "      <td>False</td>\n",
       "      <td>False</td>\n",
       "      <td>False</td>\n",
       "      <td>False</td>\n",
       "      <td>False</td>\n",
       "      <td>True</td>\n",
       "      <td>False</td>\n",
       "    </tr>\n",
       "    <tr>\n",
       "      <th>4</th>\n",
       "      <td>False</td>\n",
       "      <td>False</td>\n",
       "      <td>False</td>\n",
       "      <td>False</td>\n",
       "      <td>False</td>\n",
       "      <td>True</td>\n",
       "      <td>False</td>\n",
       "    </tr>\n",
       "    <tr>\n",
       "      <th>5</th>\n",
       "      <td>False</td>\n",
       "      <td>False</td>\n",
       "      <td>False</td>\n",
       "      <td>False</td>\n",
       "      <td>False</td>\n",
       "      <td>True</td>\n",
       "      <td>False</td>\n",
       "    </tr>\n",
       "    <tr>\n",
       "      <th>6</th>\n",
       "      <td>False</td>\n",
       "      <td>False</td>\n",
       "      <td>False</td>\n",
       "      <td>False</td>\n",
       "      <td>False</td>\n",
       "      <td>True</td>\n",
       "      <td>False</td>\n",
       "    </tr>\n",
       "    <tr>\n",
       "      <th>7</th>\n",
       "      <td>False</td>\n",
       "      <td>False</td>\n",
       "      <td>False</td>\n",
       "      <td>False</td>\n",
       "      <td>False</td>\n",
       "      <td>True</td>\n",
       "      <td>False</td>\n",
       "    </tr>\n",
       "    <tr>\n",
       "      <th>8</th>\n",
       "      <td>False</td>\n",
       "      <td>False</td>\n",
       "      <td>False</td>\n",
       "      <td>False</td>\n",
       "      <td>False</td>\n",
       "      <td>True</td>\n",
       "      <td>False</td>\n",
       "    </tr>\n",
       "    <tr>\n",
       "      <th>9</th>\n",
       "      <td>False</td>\n",
       "      <td>False</td>\n",
       "      <td>False</td>\n",
       "      <td>False</td>\n",
       "      <td>False</td>\n",
       "      <td>True</td>\n",
       "      <td>False</td>\n",
       "    </tr>\n",
       "  </tbody>\n",
       "</table>\n",
       "</div>"
      ],
      "text/plain": [
       "   Order_ID  Product  Category  Quantity  Price  Total_Amount   Date\n",
       "0     False    False     False     False  False          True  False\n",
       "1     False    False     False     False  False          True  False\n",
       "2     False    False     False     False  False          True  False\n",
       "3     False    False     False     False  False          True  False\n",
       "4     False    False     False     False  False          True  False\n",
       "5     False    False     False     False  False          True  False\n",
       "6     False    False     False     False  False          True  False\n",
       "7     False    False     False     False  False          True  False\n",
       "8     False    False     False     False  False          True  False\n",
       "9     False    False     False     False  False          True  False"
      ]
     },
     "execution_count": 5,
     "metadata": {},
     "output_type": "execute_result"
    }
   ],
   "source": [
    "sales_data2.isna()"
   ]
  },
  {
   "cell_type": "code",
   "execution_count": 12,
   "id": "84de57a9-e5ba-4fa3-9365-3ce87e8642d5",
   "metadata": {},
   "outputs": [],
   "source": [
    "sales_Data2 = sales_data2.fillna(0)"
   ]
  },
  {
   "cell_type": "code",
   "execution_count": 13,
   "id": "2c87cb9e-bff4-45cc-988b-b2307c8e3d0d",
   "metadata": {},
   "outputs": [
    {
     "name": "stdout",
     "output_type": "stream",
     "text": [
      "   Order_ID       Product     Category  Quantity  Price  Total_Amount  \\\n",
      "0      1001        Laptop  Electronics         2    700           0.0   \n",
      "1      1002  Mobile Phone  Electronics         1    500           0.0   \n",
      "2      1003    Headphones  Accessories         3     50           0.0   \n",
      "3      1004         Mouse  Accessories         2     20           0.0   \n",
      "4      1005      Keyboard  Accessories         1     30           0.0   \n",
      "5      1006       T-shirt     Clothing         4     15           0.0   \n",
      "6      1007        Jacket     Clothing         1     60           0.0   \n",
      "7      1008  Refrigerator  Electronics         1    900           0.0   \n",
      "8      1009            TV  Electronics         2   1100           0.0   \n",
      "9      1010         Shoes     Clothing         2     40           0.0   \n",
      "\n",
      "         Date  \n",
      "0  2024-02-01  \n",
      "1  2024-02-02  \n",
      "2  2024-02-03  \n",
      "3  2024-02-04  \n",
      "4  2024-02-05  \n",
      "5  2024-02-06  \n",
      "6  2024-02-07  \n",
      "7  2024-02-08  \n",
      "8  2024-02-09  \n",
      "9  2024-02-10  \n"
     ]
    }
   ],
   "source": [
    "print(sales_Data2)"
   ]
  },
  {
   "cell_type": "code",
   "execution_count": 14,
   "id": "468888c7-24d2-4ec0-a336-f6604df85216",
   "metadata": {},
   "outputs": [
    {
     "data": {
      "text/plain": [
       "0    False\n",
       "1    False\n",
       "2    False\n",
       "3    False\n",
       "4    False\n",
       "5    False\n",
       "6    False\n",
       "7    False\n",
       "8    False\n",
       "9    False\n",
       "dtype: bool"
      ]
     },
     "execution_count": 14,
     "metadata": {},
     "output_type": "execute_result"
    }
   ],
   "source": [
    "sales_data2.duplicated()"
   ]
  },
  {
   "cell_type": "code",
   "execution_count": 17,
   "id": "c1ac9190-7cc3-4dc9-8da3-09c3994e4e80",
   "metadata": {},
   "outputs": [
    {
     "data": {
      "text/plain": [
       "Order_ID          int64\n",
       "Product          object\n",
       "Category         object\n",
       "Quantity          int64\n",
       "Price             int64\n",
       "Total_Amount    float64\n",
       "Date             object\n",
       "dtype: object"
      ]
     },
     "execution_count": 17,
     "metadata": {},
     "output_type": "execute_result"
    }
   ],
   "source": [
    "sales_data2.dtypes\n"
   ]
  },
  {
   "cell_type": "code",
   "execution_count": 21,
   "id": "d4ea4264-2602-4ecd-9da7-06f2a6586b74",
   "metadata": {},
   "outputs": [],
   "source": [
    "sales_data2['Date'] = pd.to_datetime(sales_data2['Date'])"
   ]
  },
  {
   "cell_type": "code",
   "execution_count": 22,
   "id": "af7f2aa2-74f8-4807-9060-83f3824ca901",
   "metadata": {},
   "outputs": [
    {
     "name": "stdout",
     "output_type": "stream",
     "text": [
      "   Order_ID       Product     Category  Quantity  Price  Total_Amount  \\\n",
      "0      1001        Laptop  Electronics         2    700           NaN   \n",
      "1      1002  Mobile Phone  Electronics         1    500           NaN   \n",
      "2      1003    Headphones  Accessories         3     50           NaN   \n",
      "3      1004         Mouse  Accessories         2     20           NaN   \n",
      "4      1005      Keyboard  Accessories         1     30           NaN   \n",
      "5      1006       T-shirt     Clothing         4     15           NaN   \n",
      "6      1007        Jacket     Clothing         1     60           NaN   \n",
      "7      1008  Refrigerator  Electronics         1    900           NaN   \n",
      "8      1009            TV  Electronics         2   1100           NaN   \n",
      "9      1010         Shoes     Clothing         2     40           NaN   \n",
      "\n",
      "        Date  \n",
      "0 2024-02-01  \n",
      "1 2024-02-02  \n",
      "2 2024-02-03  \n",
      "3 2024-02-04  \n",
      "4 2024-02-05  \n",
      "5 2024-02-06  \n",
      "6 2024-02-07  \n",
      "7 2024-02-08  \n",
      "8 2024-02-09  \n",
      "9 2024-02-10  \n"
     ]
    }
   ],
   "source": [
    "print(sales_data2)"
   ]
  },
  {
   "cell_type": "code",
   "execution_count": 27,
   "id": "ab856c7b-20ec-49e0-8439-ffb5397f7620",
   "metadata": {},
   "outputs": [],
   "source": [
    "sales_data2['Product'] = sales_data2['Product'].astype(str)\n",
    "sales_data2['Category'] = sales_data2['Category'].astype(str)\n",
    "# sales_data2['Total_Amount'] = sales_data2['Total_Amount'].astype(int)"
   ]
  },
  {
   "cell_type": "code",
   "execution_count": 29,
   "id": "0fda8019-f943-4920-b652-47fa376e2768",
   "metadata": {},
   "outputs": [
    {
     "data": {
      "text/plain": [
       "Order_ID                 int64\n",
       "Product                 object\n",
       "Category                object\n",
       "Quantity                 int64\n",
       "Price                    int64\n",
       "Total_Amount           float64\n",
       "Date            datetime64[ns]\n",
       "dtype: object"
      ]
     },
     "execution_count": 29,
     "metadata": {},
     "output_type": "execute_result"
    }
   ],
   "source": [
    "sales_data2.dtypes"
   ]
  },
  {
   "cell_type": "code",
   "execution_count": 32,
   "id": "d2a383b4-354a-4c60-84ab-18859f3a47a3",
   "metadata": {},
   "outputs": [
    {
     "name": "stdout",
     "output_type": "stream",
     "text": [
      "Outliers : [100]\n"
     ]
    }
   ],
   "source": [
    "# Outlier\n",
    "import numpy as np\n",
    "data = np.array([10,12,14,15,18,21,25,100])\n",
    "\n",
    "# Calculate Q1, Q3 and IQR\n",
    "Q1 = np.percentile(data,25)\n",
    "Q3 = np.percentile(data,75)\n",
    "IQR = Q3 - Q1\n",
    "\n",
    "# Define lower and upper bounds\n",
    "lower_bound = Q1 - 1.5 * IQR\n",
    "upper_bound = Q3 + 1.5 * IQR\n",
    "\n",
    "# Identify outliers\n",
    "outliers = data[(data < lower_bound) | (data > upper_bound)]\n",
    "\n",
    "print(\"Outliers :\", outliers)"
   ]
  },
  {
   "cell_type": "code",
   "execution_count": null,
   "id": "4ab6e481-1607-4bfb-bfcb-c104f1202b3c",
   "metadata": {},
   "outputs": [],
   "source": []
  }
 ],
 "metadata": {
  "kernelspec": {
   "display_name": "Python 3 (ipykernel)",
   "language": "python",
   "name": "python3"
  },
  "language_info": {
   "codemirror_mode": {
    "name": "ipython",
    "version": 3
   },
   "file_extension": ".py",
   "mimetype": "text/x-python",
   "name": "python",
   "nbconvert_exporter": "python",
   "pygments_lexer": "ipython3",
   "version": "3.13.2"
  }
 },
 "nbformat": 4,
 "nbformat_minor": 5
}
