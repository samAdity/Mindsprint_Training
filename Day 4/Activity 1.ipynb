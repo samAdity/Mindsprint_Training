{
 "cells": [
  {
   "cell_type": "code",
   "execution_count": 2,
   "id": "c5433dd6-6120-4d3a-8c60-569b476dada2",
   "metadata": {},
   "outputs": [
    {
     "name": "stdout",
     "output_type": "stream",
     "text": [
      "   Student_ID      Name  Math  Science  English  Total            Grade\n",
      "0           1       Ric    42       16       85     97  upward-trending\n",
      "1           2   Abigail    79      100       56    264           portal\n",
      "2           3    Sonnie    98       53       97    125      Implemented\n",
      "3           4  Roderick    73       38       72     77   conglomeration\n",
      "4           5    Collin    80       81       56    242        emulation\n"
     ]
    }
   ],
   "source": [
    "import pandas as pd\n",
    "\n",
    "# create dataframe by reading csv file\n",
    "df = pd.read_csv('Student_Data.csv')\n",
    "\n",
    "print(df.head())"
   ]
  },
  {
   "cell_type": "code",
   "execution_count": 3,
   "id": "ef513d4f-6342-4609-8dd8-0e33c1f42cee",
   "metadata": {},
   "outputs": [
    {
     "data": {
      "text/html": [
       "<div>\n",
       "<style scoped>\n",
       "    .dataframe tbody tr th:only-of-type {\n",
       "        vertical-align: middle;\n",
       "    }\n",
       "\n",
       "    .dataframe tbody tr th {\n",
       "        vertical-align: top;\n",
       "    }\n",
       "\n",
       "    .dataframe thead th {\n",
       "        text-align: right;\n",
       "    }\n",
       "</style>\n",
       "<table border=\"1\" class=\"dataframe\">\n",
       "  <thead>\n",
       "    <tr style=\"text-align: right;\">\n",
       "      <th></th>\n",
       "      <th>Student_ID</th>\n",
       "      <th>Name</th>\n",
       "      <th>Math</th>\n",
       "      <th>Science</th>\n",
       "      <th>English</th>\n",
       "      <th>Total</th>\n",
       "      <th>Grade</th>\n",
       "    </tr>\n",
       "  </thead>\n",
       "  <tbody>\n",
       "    <tr>\n",
       "      <th>0</th>\n",
       "      <td>False</td>\n",
       "      <td>False</td>\n",
       "      <td>False</td>\n",
       "      <td>False</td>\n",
       "      <td>False</td>\n",
       "      <td>False</td>\n",
       "      <td>False</td>\n",
       "    </tr>\n",
       "    <tr>\n",
       "      <th>1</th>\n",
       "      <td>False</td>\n",
       "      <td>False</td>\n",
       "      <td>False</td>\n",
       "      <td>False</td>\n",
       "      <td>False</td>\n",
       "      <td>False</td>\n",
       "      <td>False</td>\n",
       "    </tr>\n",
       "    <tr>\n",
       "      <th>2</th>\n",
       "      <td>False</td>\n",
       "      <td>False</td>\n",
       "      <td>False</td>\n",
       "      <td>False</td>\n",
       "      <td>False</td>\n",
       "      <td>False</td>\n",
       "      <td>False</td>\n",
       "    </tr>\n",
       "    <tr>\n",
       "      <th>3</th>\n",
       "      <td>False</td>\n",
       "      <td>False</td>\n",
       "      <td>False</td>\n",
       "      <td>False</td>\n",
       "      <td>False</td>\n",
       "      <td>False</td>\n",
       "      <td>False</td>\n",
       "    </tr>\n",
       "    <tr>\n",
       "      <th>4</th>\n",
       "      <td>False</td>\n",
       "      <td>False</td>\n",
       "      <td>False</td>\n",
       "      <td>False</td>\n",
       "      <td>False</td>\n",
       "      <td>False</td>\n",
       "      <td>False</td>\n",
       "    </tr>\n",
       "    <tr>\n",
       "      <th>...</th>\n",
       "      <td>...</td>\n",
       "      <td>...</td>\n",
       "      <td>...</td>\n",
       "      <td>...</td>\n",
       "      <td>...</td>\n",
       "      <td>...</td>\n",
       "      <td>...</td>\n",
       "    </tr>\n",
       "    <tr>\n",
       "      <th>95</th>\n",
       "      <td>False</td>\n",
       "      <td>False</td>\n",
       "      <td>False</td>\n",
       "      <td>False</td>\n",
       "      <td>False</td>\n",
       "      <td>False</td>\n",
       "      <td>False</td>\n",
       "    </tr>\n",
       "    <tr>\n",
       "      <th>96</th>\n",
       "      <td>False</td>\n",
       "      <td>False</td>\n",
       "      <td>False</td>\n",
       "      <td>False</td>\n",
       "      <td>False</td>\n",
       "      <td>False</td>\n",
       "      <td>False</td>\n",
       "    </tr>\n",
       "    <tr>\n",
       "      <th>97</th>\n",
       "      <td>False</td>\n",
       "      <td>False</td>\n",
       "      <td>False</td>\n",
       "      <td>False</td>\n",
       "      <td>False</td>\n",
       "      <td>False</td>\n",
       "      <td>False</td>\n",
       "    </tr>\n",
       "    <tr>\n",
       "      <th>98</th>\n",
       "      <td>False</td>\n",
       "      <td>False</td>\n",
       "      <td>False</td>\n",
       "      <td>False</td>\n",
       "      <td>False</td>\n",
       "      <td>False</td>\n",
       "      <td>False</td>\n",
       "    </tr>\n",
       "    <tr>\n",
       "      <th>99</th>\n",
       "      <td>False</td>\n",
       "      <td>False</td>\n",
       "      <td>False</td>\n",
       "      <td>False</td>\n",
       "      <td>False</td>\n",
       "      <td>False</td>\n",
       "      <td>False</td>\n",
       "    </tr>\n",
       "  </tbody>\n",
       "</table>\n",
       "<p>100 rows × 7 columns</p>\n",
       "</div>"
      ],
      "text/plain": [
       "    Student_ID   Name   Math  Science  English  Total  Grade\n",
       "0        False  False  False    False    False  False  False\n",
       "1        False  False  False    False    False  False  False\n",
       "2        False  False  False    False    False  False  False\n",
       "3        False  False  False    False    False  False  False\n",
       "4        False  False  False    False    False  False  False\n",
       "..         ...    ...    ...      ...      ...    ...    ...\n",
       "95       False  False  False    False    False  False  False\n",
       "96       False  False  False    False    False  False  False\n",
       "97       False  False  False    False    False  False  False\n",
       "98       False  False  False    False    False  False  False\n",
       "99       False  False  False    False    False  False  False\n",
       "\n",
       "[100 rows x 7 columns]"
      ]
     },
     "execution_count": 3,
     "metadata": {},
     "output_type": "execute_result"
    }
   ],
   "source": [
    "# to check empty/ NA values in data set\n",
    "df.isna()"
   ]
  },
  {
   "cell_type": "code",
   "execution_count": 9,
   "id": "3c430e17-5206-40d8-b204-2abfe11761de",
   "metadata": {},
   "outputs": [
    {
     "name": "stdout",
     "output_type": "stream",
     "text": [
      "       Name  Math  Science  English  Total\n",
      "0       Ric    42       16       85    143\n",
      "1   Abigail    79      100       56    235\n",
      "2    Sonnie    98       53       97    248\n",
      "3  Roderick    73       38       72    183\n",
      "4    Collin    80       81       56    217\n"
     ]
    }
   ],
   "source": [
    "df['Total'] = df[['Math', 'Science', 'English']].sum(axis = 1)\n",
    "print(df[['Name', 'Math', 'Science', 'English', 'Total']].head())"
   ]
  },
  {
   "cell_type": "code",
   "execution_count": 16,
   "id": "cb09196a-a5bc-401d-b99b-a4255978db87",
   "metadata": {},
   "outputs": [],
   "source": [
    "df.rename(columns={'@Math': 'Math'}, inplace=True)"
   ]
  },
  {
   "cell_type": "code",
   "execution_count": 22,
   "id": "7fa342b9-06a9-468b-bf84-67859b0b0dad",
   "metadata": {},
   "outputs": [],
   "source": [
    "def assign_grade(total):\n",
    "    if total >= 250:\n",
    "        return 'A'\n",
    "    elif total >= 200:\n",
    "        return 'B'\n",
    "    elif total >= 150:\n",
    "        return 'C'\n",
    "    else:\n",
    "        return 'D'\n",
    "\n",
    "df['Grade'] = df['Total'].apply(assign_grade)"
   ]
  },
  {
   "cell_type": "code",
   "execution_count": 26,
   "id": "069e5851-9269-4442-84d1-c830535cac7b",
   "metadata": {},
   "outputs": [
    {
     "name": "stdout",
     "output_type": "stream",
     "text": [
      "        Name  Total Grade\n",
      "0        Ric    143     D\n",
      "1    Abigail    235     B\n",
      "2     Sonnie    248     B\n",
      "3   Roderick    183     C\n",
      "4     Collin    217     B\n",
      "..       ...    ...   ...\n",
      "95    Carlie    188     C\n",
      "96   Marshal    124     D\n",
      "97     Hobey    129     D\n",
      "98    Joelie    108     D\n",
      "99   Clemmie    232     B\n",
      "\n",
      "[100 rows x 3 columns]\n"
     ]
    }
   ],
   "source": [
    "print(df[['Name' , 'Total', 'Grade']])"
   ]
  },
  {
   "cell_type": "code",
   "execution_count": 32,
   "id": "fd201e73-82b7-4b58-8a04-43e2753d8179",
   "metadata": {},
   "outputs": [
    {
     "name": "stdout",
     "output_type": "stream",
     "text": [
      "    Student_ID  Name  Math  Science  English  Total Grade\n",
      "94          95  Adda    98       86       79    263     A\n",
      "-------------------------------------------------------------\n",
      "Number of student got 'A Grade : 1\n"
     ]
    }
   ],
   "source": [
    "# Filter the data -- those students got 'A' Grade\n",
    "\n",
    "grade_a_student = df[df['Grade'] == 'A']\n",
    "print(grade_a_student)\n",
    "print(\"-------------------------------------------------------------\")\n",
    "print(\"Number of student got 'A Grade :\", len(grade_a_student))"
   ]
  },
  {
   "cell_type": "code",
   "execution_count": 35,
   "id": "a3c2c5a9-da46-4eec-a9e2-3034feae775b",
   "metadata": {},
   "outputs": [
    {
     "name": "stdout",
     "output_type": "stream",
     "text": [
      "100\n",
      "-----------------------------------------------------------\n",
      "    Student_ID   Name  Math  Science  English  Total Grade\n",
      "59          60  Julie   100       92       50    242     B\n"
     ]
    }
   ],
   "source": [
    "math_max = max(df['Math'])\n",
    "print(math_max)\n",
    "print(\"-----------------------------------------------------------\")\n",
    "print(df[df['Math'] == math_max])"
   ]
  },
  {
   "cell_type": "code",
   "execution_count": 37,
   "id": "4ab096ca-2c34-4365-947e-3d5f09c39756",
   "metadata": {},
   "outputs": [
    {
     "name": "stdout",
     "output_type": "stream",
     "text": [
      "data saved successfully\n"
     ]
    }
   ],
   "source": [
    "df.to_csv(\"UpDated_File.csv\", index = False)\n",
    "print(\"data saved successfully\")"
   ]
  },
  {
   "cell_type": "code",
   "execution_count": null,
   "id": "96788be3-6382-4448-8737-608dc768ff27",
   "metadata": {},
   "outputs": [],
   "source": []
  }
 ],
 "metadata": {
  "kernelspec": {
   "display_name": "Python 3 (ipykernel)",
   "language": "python",
   "name": "python3"
  },
  "language_info": {
   "codemirror_mode": {
    "name": "ipython",
    "version": 3
   },
   "file_extension": ".py",
   "mimetype": "text/x-python",
   "name": "python",
   "nbconvert_exporter": "python",
   "pygments_lexer": "ipython3",
   "version": "3.13.2"
  }
 },
 "nbformat": 4,
 "nbformat_minor": 5
}
