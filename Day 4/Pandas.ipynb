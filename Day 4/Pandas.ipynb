{
 "cells": [
  {
   "cell_type": "code",
   "execution_count": 10,
   "id": "0dfedf05-fec7-4026-b00b-a78f31bfa3c3",
   "metadata": {},
   "outputs": [
    {
     "name": "stdout",
     "output_type": "stream",
     "text": [
      "Version : 2.2.3\n"
     ]
    }
   ],
   "source": [
    "# Pandas - Library for data manipulation and analysis\n",
    "import pandas as pd\n",
    "print('Version :', pd.__version__)"
   ]
  },
  {
   "cell_type": "code",
   "execution_count": 11,
   "id": "872ec0a4-4a39-42d9-b505-46aafb7cedfd",
   "metadata": {},
   "outputs": [
    {
     "name": "stdout",
     "output_type": "stream",
     "text": [
      "0    12\n",
      "1    23\n",
      "2    34\n",
      "3    55\n",
      "4    67\n",
      "dtype: int64\n",
      "Element at Index 3 : 55\n"
     ]
    }
   ],
   "source": [
    "# Series - 1D Data\n",
    "list = [12,23,34,55,67]\n",
    "mySeries = pd.Series(list)\n",
    "print(mySeries)\n",
    "print('Element at Index 3 :',mySeries[3])\n"
   ]
  },
  {
   "cell_type": "code",
   "execution_count": 8,
   "id": "adc48dec-7453-4703-954d-deb805a67127",
   "metadata": {},
   "outputs": [
    {
     "name": "stdout",
     "output_type": "stream",
     "text": [
      "a    1\n",
      "b    7\n",
      "c    4\n",
      "dtype: int64\n",
      "Element at 'b' index : 7\n"
     ]
    }
   ],
   "source": [
    "a = [1,7,4]\n",
    "myvar = pd.Series(a,index = [\"a\", \"b\", \"c\"])\n",
    "print(myvar)\n",
    "print(\"Element at 'b' index :\", myvar['b'])"
   ]
  },
  {
   "cell_type": "code",
   "execution_count": 9,
   "id": "002918d4-e2ad-49df-86c0-42b7b1a9b131",
   "metadata": {},
   "outputs": [
    {
     "name": "stdout",
     "output_type": "stream",
     "text": [
      "id                       1\n",
      "name                 Paras\n",
      "email      paras@gmail.com\n",
      "address             Ambala\n",
      "dtype: object\n",
      "id 1\n",
      "name Paras\n"
     ]
    }
   ],
   "source": [
    "employee ={\n",
    "    \"id\" : 1,\n",
    "    \"name\" : \"Paras\",\n",
    "    \"email\" : \"paras@gmail.com\",\n",
    "    \"address\" : \"Ambala\"\n",
    "}\n",
    "data = pd.Series(employee)\n",
    "print(data)\n",
    "print(\"id\", data[\"id\"])\n",
    "print('name', data['name'])"
   ]
  },
  {
   "cell_type": "code",
   "execution_count": 14,
   "id": "747c9a0b-d58f-46a5-a588-2239eb64a8f1",
   "metadata": {},
   "outputs": [
    {
     "name": "stdout",
     "output_type": "stream",
     "text": [
      "   id      name\n",
      "0   1     paras\n",
      "1   2     adity\n",
      "2   3  harikesh\n",
      "3   4    pragya\n"
     ]
    }
   ],
   "source": [
    "# DataFrame - 2D Data - for Excel or SQL table\n",
    "\n",
    "data = {\n",
    "    \"id\" : [1,2,3,4],\n",
    "    \"name\" : [\"paras\", \"adity\", \"harikesh\", \"pragya\"],\n",
    "}\n",
    "\n",
    "myData = pd.DataFrame(data)\n",
    "print(myData)\n"
   ]
  },
  {
   "cell_type": "code",
   "execution_count": 22,
   "id": "3cd71a0c-39b7-4669-92aa-2efe68fd6ad1",
   "metadata": {},
   "outputs": [
    {
     "name": "stdout",
     "output_type": "stream",
     "text": [
      "       name  age\n",
      "0     paras   12\n",
      "1     adity   34\n",
      "2  harikesh   23\n",
      "3    pragya    2\n",
      "---------------------------------------------\n",
      "name    paras\n",
      "age        12\n",
      "Name: 0, dtype: object\n",
      "---------------------------------------------\n",
      "    name  age\n",
      "0  paras   12\n",
      "1  adity   34\n",
      "---------------------------------------------\n",
      "12\n"
     ]
    }
   ],
   "source": [
    "data = {\n",
    "    \"name\" : [\"paras\", \"adity\", \"harikesh\", \"pragya\"],\n",
    "    \"age\" : [12,34,23,2]\n",
    "}\n",
    "\n",
    "myVar = pd.DataFrame(data)\n",
    "print(myVar)\n",
    "print(\"---------------------------------------------\")\n",
    "print(myVar.loc[0])\n",
    "print(\"---------------------------------------------\")\n",
    "print(myVar.loc[[0,1]]) #rows with index number \n",
    "print(\"---------------------------------------------\")\n",
    "print(myVar.iloc[0,1]) # value at row and column"
   ]
  },
  {
   "cell_type": "code",
   "execution_count": 25,
   "id": "141142f9-7023-4985-960b-242b1d8a5306",
   "metadata": {},
   "outputs": [
    {
     "name": "stdout",
     "output_type": "stream",
     "text": [
      "        name  age\n",
      "user1   alex   23\n",
      "user2    bob   45\n",
      "user3  catty   21\n",
      "---------------------------------------------\n",
      "name    alex\n",
      "age       23\n",
      "Name: user1, dtype: object\n"
     ]
    }
   ],
   "source": [
    "userData = {\n",
    "    \"name\" : [\"alex\", \"bob\", \"catty\"],\n",
    "    \"age\" : [23,45,21]\n",
    "}\n",
    "\n",
    "df1 = pd.DataFrame(userData, index = [\"user1\", \"user2\", \"user3\"])\n",
    "print(df1)\n",
    "print(\"---------------------------------------------\")\n",
    "print(df1.loc[\"user1\"])"
   ]
  },
  {
   "cell_type": "code",
   "execution_count": 30,
   "id": "2bcec508-e7fa-44b2-b38f-ed490838c31b",
   "metadata": {},
   "outputs": [
    {
     "name": "stdout",
     "output_type": "stream",
     "text": [
      "       age   name\n",
      "user1   23   alex\n",
      "user2   45    bob\n",
      "user3   21  catty\n",
      "---------------------------------------------\n",
      "age        21\n",
      "name    catty\n",
      "Name: user3, dtype: object\n"
     ]
    }
   ],
   "source": [
    "# Change the order of Columns\n",
    "\n",
    "userData = {\n",
    "    \"name\" : [\"alex\", \"bob\", \"catty\"],\n",
    "    \"age\" : [23,45,21]\n",
    "}\n",
    "\n",
    "df1 = pd.DataFrame(userData, index = [\"user1\", \"user2\", \"user3\"], columns = [\"age\", \"name\"])\n",
    "print(df1)\n",
    "print(\"---------------------------------------------\")\n",
    "print(df1.loc[\"user3\"])"
   ]
  },
  {
   "cell_type": "code",
   "execution_count": 31,
   "id": "edb7f0b8-83f5-4490-ac65-a30935aba3c4",
   "metadata": {
    "scrolled": true
   },
   "outputs": [
    {
     "name": "stdout",
     "output_type": "stream",
     "text": [
      "         Name  Age     City\n",
      "user1   Adity   21   Orissa\n",
      "user2   Paras   21  haryana\n",
      "user3  Pragya   30    Bihar\n",
      "---------------------------------------------\n",
      "Name    Pragya\n",
      "Age         30\n",
      "City     Bihar\n",
      "Name: user3, dtype: object\n"
     ]
    }
   ],
   "source": [
    "userData = [\n",
    "    [\"Adity\", 21, \"Orissa\"],\n",
    "    [\"Paras\", 21, \"haryana\"],\n",
    "    [\"Pragya\", 30, \"Bihar\"]\n",
    "]\n",
    "\n",
    "df1 = pd.DataFrame(userData, index = [\"user1\", \"user2\", \"user3\"], columns = [\"Name\", \"Age\", \"City\"])\n",
    "print(df1)\n",
    "print(\"---------------------------------------------\")\n",
    "print(df1.loc[\"user3\"])"
   ]
  },
  {
   "cell_type": "code",
   "execution_count": 36,
   "id": "91ee6c0d-e65b-4a4d-bfd3-eecbce7b54bf",
   "metadata": {},
   "outputs": [
    {
     "name": "stdout",
     "output_type": "stream",
     "text": [
      "     ID                Name          City                             Email  \\\n",
      "0     1     Sarge Brettoner      Cinyawar          sbrettoner0@stanford.edu   \n",
      "1     2  Helyn Schuchmacher          Yidu  hschuchmacher1@howstuffworks.com   \n",
      "2     3      Giffer Garroch        Sussex               ggarroch2@issuu.com   \n",
      "3     4     Eduino Halladey    Chalamarca              ehalladey3@intel.com   \n",
      "4     5    Deina Freemantle  Philadelphia        dfreemantle4@woothemes.com   \n",
      "..  ...                 ...           ...                               ...   \n",
      "95   96  Hartwell Valintine       Kasiyan         hvalintine2n@buzzfeed.com   \n",
      "96   97     Melinde Madgett      Viangxai               mmadgett2o@uiuc.edu   \n",
      "97   98       Sinclair Ewer       Brunflo                   sewer2p@ted.com   \n",
      "98   99         Lenna Finby         Kholm          lfinby2q@marketwatch.com   \n",
      "99  100       Serge Zelland     Kaliuling           szelland2r@amazon.co.jp   \n",
      "\n",
      "         Gender  Percentage  \n",
      "0          Male        23.0  \n",
      "1        Female        97.2  \n",
      "2          Male        76.2  \n",
      "3          Male        98.8  \n",
      "4        Female        45.6  \n",
      "..          ...         ...  \n",
      "95         Male        41.5  \n",
      "96       Female        82.2  \n",
      "97         Male         1.5  \n",
      "98  Genderfluid        23.4  \n",
      "99         Male        82.6  \n",
      "\n",
      "[100 rows x 6 columns]\n"
     ]
    }
   ],
   "source": [
    "student_data = pd.read_csv('MOCK_DATA.csv')\n",
    "print(student_data)"
   ]
  },
  {
   "cell_type": "code",
   "execution_count": 38,
   "id": "0a1ebb23-c852-411b-b261-82fb7b407e3b",
   "metadata": {},
   "outputs": [
    {
     "name": "stdout",
     "output_type": "stream",
     "text": [
      "   ID                Name          City                             Email  \\\n",
      "0   1     Sarge Brettoner      Cinyawar          sbrettoner0@stanford.edu   \n",
      "1   2  Helyn Schuchmacher          Yidu  hschuchmacher1@howstuffworks.com   \n",
      "2   3      Giffer Garroch        Sussex               ggarroch2@issuu.com   \n",
      "3   4     Eduino Halladey    Chalamarca              ehalladey3@intel.com   \n",
      "4   5    Deina Freemantle  Philadelphia        dfreemantle4@woothemes.com   \n",
      "\n",
      "   Gender  Percentage  \n",
      "0    Male        23.0  \n",
      "1  Female        97.2  \n",
      "2    Male        76.2  \n",
      "3    Male        98.8  \n",
      "4  Female        45.6  \n"
     ]
    }
   ],
   "source": [
    "print(student_data.head()) # First 5 Rows"
   ]
  },
  {
   "cell_type": "code",
   "execution_count": 55,
   "id": "6c81a313-d5fa-4436-ae17-b1a64433d6ca",
   "metadata": {},
   "outputs": [
    {
     "name": "stdout",
     "output_type": "stream",
     "text": [
      "    ID                Name               City  \\\n",
      "0    1     Sarge Brettoner           Cinyawar   \n",
      "1    2  Helyn Schuchmacher               Yidu   \n",
      "2    3      Giffer Garroch             Sussex   \n",
      "3    4     Eduino Halladey         Chalamarca   \n",
      "4    5    Deina Freemantle       Philadelphia   \n",
      "5    6      Evelyn Twiddle             Nonsan   \n",
      "6    7        Hagan Leeson        Delgermörön   \n",
      "7    8     Jermain McAmish              Yŏnmu   \n",
      "8    9     Janetta Gurrado               Bazi   \n",
      "9   10      Abdel Dallaway       Vysokogornyy   \n",
      "10  11        Marna Keller             Vavozh   \n",
      "11  12        Karol Ilieve          Laboulaye   \n",
      "12  13       Doretta Bukac             Musawa   \n",
      "13  14       Even Alphonso             Playas   \n",
      "14  15      Delbert Mawtus     Taywanak Ilaya   \n",
      "15  16     Bertina Harhoff            Baranów   \n",
      "16  17        Cleon Denkin        Berestechko   \n",
      "17  18      Jaynell Hamlyn  Tagkawayan Sabang   \n",
      "18  19        Gabie Hadwin             Huaguo   \n",
      "19  20      Xenia McJerrow           Fengshan   \n",
      "\n",
      "                               Email       Gender  Percentage  \n",
      "0           sbrettoner0@stanford.edu         Male        23.0  \n",
      "1   hschuchmacher1@howstuffworks.com       Female        97.2  \n",
      "2                ggarroch2@issuu.com         Male        76.2  \n",
      "3               ehalladey3@intel.com         Male        98.8  \n",
      "4         dfreemantle4@woothemes.com       Female        45.6  \n",
      "5            etwiddle5@123-reg.co.uk  Genderfluid        14.7  \n",
      "6                 hleeson6@alexa.com         Male        50.1  \n",
      "7         jmcamish7@biblegateway.com         Male        52.7  \n",
      "8                  jgurrado8@ibm.com       Female         4.0  \n",
      "9             adallaway9@yahoo.co.jp         Male        50.0  \n",
      "10         mkellera@businessweek.com       Female        43.3  \n",
      "11               kilieveb@tripod.com   Non-binary         5.5  \n",
      "12                   dbukacc@mlb.com       Female         2.1  \n",
      "13           ealphonsod@marriott.com         Male         7.0  \n",
      "14              dmawtuse@skyrock.com         Male        61.4  \n",
      "15                 bharhofff@fc2.com       Female        45.7  \n",
      "16                cdenking@about.com         Male        90.4  \n",
      "17          jhamlynh@bizjournals.com       Female        13.7  \n",
      "18              ghadwini@typepad.com         Male        27.9  \n",
      "19             xmcjerrowj@usnews.com       Female        52.8  \n",
      "---------------------------------------------------------------------------------\n",
      "     ID                Name         City                       Email  \\\n",
      "80   81   Anneliese Annakin  Niška Banja  aannakin28@telegraph.co.uk   \n",
      "81   82       Tarrah Fildes      Huainan          tfildes29@narod.ru   \n",
      "82   83         Eamon Kemet  Thạnh Hóa             ekemet2a@vk.com   \n",
      "83   84         Quinn Routh   Undurkhaan        qrouth2b@webnode.com   \n",
      "84   85    Francoise Pawlik     Victoria       fpawlik2c@twitpic.com   \n",
      "85   86   Charlie Ramalhete  Jetak Kulon   cramalhete2d@engadget.com   \n",
      "86   87      Rivy Whitmarsh       Bei’an      rwhitmarsh2e@wiley.com   \n",
      "87   88      Kleon Gossling       Včelná       kgossling2f@patch.com   \n",
      "88   89  Maurizio Bradberry      Norfolk     mbradberry2g@netlog.com   \n",
      "89   90      Melisse Sayles     Brondong     msayles2h@earthlink.net   \n",
      "90   91      Ryann Sixsmith        Nebug       rsixsmith2i@alexa.com   \n",
      "91   92   Spenser Griffitts   Perbaungan      sgriffitts2j@topsy.com   \n",
      "92   93      Eveline Nussii   Karlskrona     enussii2k@goodreads.com   \n",
      "93   94      Minnie Bruyett      Gambēla   mbruyett2l@wikispaces.com   \n",
      "94   95          Win Neylan     Mulawato           wneylan2m@icq.com   \n",
      "95   96  Hartwell Valintine      Kasiyan   hvalintine2n@buzzfeed.com   \n",
      "96   97     Melinde Madgett     Viangxai         mmadgett2o@uiuc.edu   \n",
      "97   98       Sinclair Ewer      Brunflo             sewer2p@ted.com   \n",
      "98   99         Lenna Finby        Kholm    lfinby2q@marketwatch.com   \n",
      "99  100       Serge Zelland    Kaliuling     szelland2r@amazon.co.jp   \n",
      "\n",
      "         Gender  Percentage  \n",
      "80   Polygender        31.0  \n",
      "81       Female         5.0  \n",
      "82   Polygender        93.8  \n",
      "83       Female        26.9  \n",
      "84       Female        51.7  \n",
      "85         Male        62.8  \n",
      "86       Female        29.0  \n",
      "87         Male        40.2  \n",
      "88         Male        61.6  \n",
      "89       Female        14.7  \n",
      "90       Female        95.0  \n",
      "91         Male        77.1  \n",
      "92       Female        74.0  \n",
      "93       Female        54.7  \n",
      "94         Male        70.7  \n",
      "95         Male        41.5  \n",
      "96       Female        82.2  \n",
      "97         Male         1.5  \n",
      "98  Genderfluid        23.4  \n",
      "99         Male        82.6  \n"
     ]
    }
   ],
   "source": [
    "print(student_data.head(20))\n",
    "print(\"---------------------------------------------------------------------------------\")\n",
    "print(student_data.tail(20))"
   ]
  },
  {
   "cell_type": "code",
   "execution_count": 48,
   "id": "792e4aeb-a2a4-4c08-be41-319dcd734936",
   "metadata": {},
   "outputs": [
    {
     "name": "stdout",
     "output_type": "stream",
     "text": [
      "     ID                Name                  City                             Email       Gender  Percentage\n",
      "0     1     Sarge Brettoner              Cinyawar          sbrettoner0@stanford.edu         Male        23.0\n",
      "1     2  Helyn Schuchmacher                  Yidu  hschuchmacher1@howstuffworks.com       Female        97.2\n",
      "2     3      Giffer Garroch                Sussex               ggarroch2@issuu.com         Male        76.2\n",
      "3     4     Eduino Halladey            Chalamarca              ehalladey3@intel.com         Male        98.8\n",
      "4     5    Deina Freemantle          Philadelphia        dfreemantle4@woothemes.com       Female        45.6\n",
      "5     6      Evelyn Twiddle                Nonsan           etwiddle5@123-reg.co.uk  Genderfluid        14.7\n",
      "6     7        Hagan Leeson           Delgermörön                hleeson6@alexa.com         Male        50.1\n",
      "7     8     Jermain McAmish                 Yŏnmu        jmcamish7@biblegateway.com         Male        52.7\n",
      "8     9     Janetta Gurrado                  Bazi                 jgurrado8@ibm.com       Female         4.0\n",
      "9    10      Abdel Dallaway          Vysokogornyy            adallaway9@yahoo.co.jp         Male        50.0\n",
      "10   11        Marna Keller                Vavozh         mkellera@businessweek.com       Female        43.3\n",
      "11   12        Karol Ilieve             Laboulaye               kilieveb@tripod.com   Non-binary         5.5\n",
      "12   13       Doretta Bukac                Musawa                   dbukacc@mlb.com       Female         2.1\n",
      "13   14       Even Alphonso                Playas           ealphonsod@marriott.com         Male         7.0\n",
      "14   15      Delbert Mawtus        Taywanak Ilaya              dmawtuse@skyrock.com         Male        61.4\n",
      "15   16     Bertina Harhoff               Baranów                 bharhofff@fc2.com       Female        45.7\n",
      "16   17        Cleon Denkin           Berestechko                cdenking@about.com         Male        90.4\n",
      "17   18      Jaynell Hamlyn     Tagkawayan Sabang          jhamlynh@bizjournals.com       Female        13.7\n",
      "18   19        Gabie Hadwin                Huaguo              ghadwini@typepad.com         Male        27.9\n",
      "19   20      Xenia McJerrow              Fengshan             xmcjerrowj@usnews.com       Female        52.8\n",
      "20   21        Jamey Cowley                Nanjie            jcowleyk@earthlink.net         Male        31.9\n",
      "21   22           Myca Vagg              Cotabato                mvaggl@youtube.com         Male        22.7\n",
      "22   23        Nilson Sends                Brotas            nsendsm@vistaprint.com   Non-binary         5.2\n",
      "23   24          Rae Andrea           Santa Lucia              randrean@samsung.com       Female        60.3\n",
      "24   25       Connie Doniso               Komatsu                  cdonisoo@ucoz.ru       Female        67.3\n",
      "25   26      Douglas Wevell             Parumasan            dwevellp@people.com.cn         Male        28.2\n",
      "26   27        Dan Newcomen               Mugango     dnewcomenq@huffingtonpost.com         Male         8.7\n",
      "27   28     Adriaens Bulger               Zhigong                abulgerr@google.de       Female        64.1\n",
      "28   29   Edvard Lepoidevin             Lolotique        elepoidevins@imageshack.us         Male        18.0\n",
      "29   30        Carmen Rowth                  Bual                    crowtht@un.org       Female        61.3\n",
      "30   31    Flemming Smieton               Wichita       fsmietonu@howstuffworks.com         Male         6.6\n",
      "31   32      Lorie Jamieson            Wageningen              ljamiesonv@apple.com       Female        73.2\n",
      "32   33   Bernadene Gallico              Tomé Açu           bgallicow@tuttocitta.it       Female        85.7\n",
      "33   34     Ginger Kruschov               Ludvika          gkruschovx@csmonitor.com       Female        20.0\n",
      "34   35     Grayce Flavelle          Sumberkrajan             gflavelley@spiegel.de       Female        99.6\n",
      "35   36      Artemis Burrus              Aranitas         aburrusz@biblegateway.com         Male        49.7\n",
      "36   37         Berk Chafer           Jetak Kulon          bchafer10@vistaprint.com         Male        24.2\n",
      "37   38       Alard Lanahan                 Weiqi               alanahan11@live.com         Male        19.5\n",
      "38   39           Gui Poile                Borbon               gpoile12@drupal.org       Female        66.8\n",
      "39   40     Hermina Cossell                 Turba             hcossell13@scribd.com       Female        91.9\n",
      "40   41       Amber Chicken                Kariya           achicken14@redcross.org  Genderfluid        69.9\n",
      "41   42     Freddie Huertas           Kete Krachi                fhuertas15@fda.gov       Female        70.9\n",
      "42   43        Karisa Alban              Yushanpu                   kalban16@un.org       Female        99.9\n",
      "43   44       Lura Scollard              Paris 02               lscollard17@nyu.edu       Female        38.5\n",
      "44   45        Merwin Ravel                Lethem               mravel18@taobao.com         Male        38.9\n",
      "45   46  Leeland Michelmore               Turangi          lmichelmore19@ustream.tv         Male        54.5\n",
      "46   47   Sargent Hempshall               Hongmei       shempshall1a@soundcloud.com         Male        91.9\n",
      "47   48       Justin Arboin  Adelaide Mail Centre        jarboin1b@domainmarket.com         Male         3.7\n",
      "48   49       Ardene Jordon                Daming                  ajordon1c@w3.org       Female        30.3\n",
      "49   50        Mona Shillan        Mont-de-Marsan                  mshillan1d@is.gd       Female         6.7\n",
      "50   51       Dix Marchetti               Ambunti           dmarchetti1e@disqus.com       Female        62.1\n",
      "51   52         Derek Regan                Nuštar                dregan1f@state.gov         Male        67.9\n",
      "52   53    Eachelle Barwell              Libourne                ebarwell1g@unc.edu  Genderfluid        63.5\n",
      "53   54         Enrika Haug             Mataraben             ehaug1h@microsoft.com       Female        59.9\n",
      "54   55   Leanor De Bischop                Austin                   lde1i@house.gov       Female        29.3\n",
      "55   56          Rose Kment                Laojie          rkment1j@squarespace.com       Female        49.7\n",
      "56   57         Robby Kezor               Shīrvān            rkezor1k@amazonaws.com         Male        62.3\n",
      "57   58    Ernaline Barosch              Tanzybey          ebarosch1l@google.com.hk       Female        83.2\n",
      "58   59       Brigit Labone               Aguazul            blabone1m@so-net.ne.jp       Female        88.2\n",
      "59   60     Guthrey Cisland               Jombang                  gcisland1n@51.la         Male        40.5\n",
      "60   61    Prinz Golsworthy                 Xekar           pgolsworthy1o@opera.com         Male         2.2\n",
      "61   62  Ebeneser Spaughton                  Palu        espaughton1p@angelfire.com         Male         5.6\n",
      "62   63         Jozef Leete                 Gembu          jleete1q@istockphoto.com         Male        79.5\n",
      "63   64        Barth Revett               Zhuyang            brevett1r@netvibes.com         Male        87.6\n",
      "64   65    Barny Malatalant         Mrkonjić Grad         bmalatalant1s@storify.com      Agender        14.1\n",
      "65   66     Irena Jovanovic                Fuquan             ijovanovic1t@xrea.com       Female        40.2\n",
      "66   67     Amalle O'Teague           Dīvāndarreh             aoteague1u@ebay.co.uk       Female        38.4\n",
      "67   68          Hayes Feek               Nogliki               hfeek1v@latimes.com         Male        94.4\n",
      "68   69    Marnia Rosenwald                 Ekerö            mrosenwald1w@skype.com       Female        67.7\n",
      "69   70      Fianna Pockett                Koshki       fpockett1x@domainmarket.com       Female        44.0\n",
      "70   71     Andreana Cruise                Bergen                  acruise1y@va.gov       Female        87.5\n",
      "71   72       Wain Oliphant         Krajan Winong              woliphant1z@ucla.edu         Male        85.9\n",
      "72   73      Candi Dunstone               Bambari       cdunstone20@marketwatch.com       Female        99.5\n",
      "73   74       Kerwin Kirkup                 Daphu       kkirkup21@deliciousdays.com         Male        65.8\n",
      "74   75  Lionello Dispencer              Kerkrade           ldispencer22@reddit.com         Male        98.6\n",
      "75   76         Edwin Sketh           Mesker-Yurt   esketh23@networkadvertising.org         Male         3.4\n",
      "76   77       Rosette Marsy             Ayteke Bi                rmarsy24@baidu.com       Female        64.3\n",
      "77   78      Gasper Fontell                Wuduhe         gfontell25@shutterfly.com         Male        34.2\n",
      "78   79    Natalina Gibbens             Hlybokaye                ngibbens26@fc2.com   Polygender        94.6\n",
      "79   80     Natalie Edgerly    Šmartno pri Litiji          nedgerly27@angelfire.com       Female        21.5\n",
      "80   81   Anneliese Annakin           Niška Banja        aannakin28@telegraph.co.uk   Polygender        31.0\n",
      "81   82       Tarrah Fildes               Huainan                tfildes29@narod.ru       Female         5.0\n",
      "82   83         Eamon Kemet           Thạnh Hóa                   ekemet2a@vk.com   Polygender        93.8\n",
      "83   84         Quinn Routh            Undurkhaan              qrouth2b@webnode.com       Female        26.9\n",
      "84   85    Francoise Pawlik              Victoria             fpawlik2c@twitpic.com       Female        51.7\n",
      "85   86   Charlie Ramalhete           Jetak Kulon         cramalhete2d@engadget.com         Male        62.8\n",
      "86   87      Rivy Whitmarsh                Bei’an            rwhitmarsh2e@wiley.com       Female        29.0\n",
      "87   88      Kleon Gossling                Včelná             kgossling2f@patch.com         Male        40.2\n",
      "88   89  Maurizio Bradberry               Norfolk           mbradberry2g@netlog.com         Male        61.6\n",
      "89   90      Melisse Sayles              Brondong           msayles2h@earthlink.net       Female        14.7\n",
      "90   91      Ryann Sixsmith                 Nebug             rsixsmith2i@alexa.com       Female        95.0\n",
      "91   92   Spenser Griffitts            Perbaungan            sgriffitts2j@topsy.com         Male        77.1\n",
      "92   93      Eveline Nussii            Karlskrona           enussii2k@goodreads.com       Female        74.0\n",
      "93   94      Minnie Bruyett               Gambēla         mbruyett2l@wikispaces.com       Female        54.7\n",
      "94   95          Win Neylan              Mulawato                 wneylan2m@icq.com         Male        70.7\n",
      "95   96  Hartwell Valintine               Kasiyan         hvalintine2n@buzzfeed.com         Male        41.5\n",
      "96   97     Melinde Madgett              Viangxai               mmadgett2o@uiuc.edu       Female        82.2\n",
      "97   98       Sinclair Ewer               Brunflo                   sewer2p@ted.com         Male         1.5\n",
      "98   99         Lenna Finby                 Kholm          lfinby2q@marketwatch.com  Genderfluid        23.4\n",
      "99  100       Serge Zelland             Kaliuling           szelland2r@amazon.co.jp         Male        82.6\n"
     ]
    }
   ],
   "source": [
    "print(student_data.to_string()) # To see all data"
   ]
  },
  {
   "cell_type": "code",
   "execution_count": 56,
   "id": "3653ff4c-0b03-4563-b073-20eabd30ac84",
   "metadata": {},
   "outputs": [
    {
     "name": "stdout",
     "output_type": "stream",
     "text": [
      "(100, 6)\n"
     ]
    }
   ],
   "source": [
    "# No of rows and columns\n",
    "print(student_data.shape)"
   ]
  },
  {
   "cell_type": "code",
   "execution_count": 59,
   "id": "f2972220-5289-4a09-9e6a-b29eeed834bd",
   "metadata": {},
   "outputs": [
    {
     "name": "stdout",
     "output_type": "stream",
     "text": [
      "<class 'pandas.core.frame.DataFrame'>\n",
      "RangeIndex: 100 entries, 0 to 99\n",
      "Data columns (total 6 columns):\n",
      " #   Column      Non-Null Count  Dtype  \n",
      "---  ------      --------------  -----  \n",
      " 0   ID          100 non-null    int64  \n",
      " 1   Name        100 non-null    object \n",
      " 2   City        100 non-null    object \n",
      " 3   Email       100 non-null    object \n",
      " 4   Gender      100 non-null    object \n",
      " 5   Percentage  100 non-null    float64\n",
      "dtypes: float64(1), int64(1), object(4)\n",
      "memory usage: 4.8+ KB\n",
      "None\n"
     ]
    }
   ],
   "source": [
    "# Summary\n",
    "print(student_data.info())"
   ]
  },
  {
   "cell_type": "code",
   "execution_count": 68,
   "id": "06f80c04-a2c5-46af-ba15-a90ecdef422b",
   "metadata": {},
   "outputs": [
    {
     "name": "stdout",
     "output_type": "stream",
     "text": [
      "               ID  Percentage\n",
      "count  100.000000  100.000000\n",
      "mean    50.500000   50.272000\n",
      "std     29.011492   30.171246\n",
      "min      1.000000    1.500000\n",
      "25%     25.750000   24.000000\n",
      "50%     50.500000   50.900000\n",
      "75%     75.250000   73.400000\n",
      "max    100.000000   99.900000\n",
      "----------------------------------------------------------------------------\n",
      "count    100.000000\n",
      "mean      50.272000\n",
      "std       30.171246\n",
      "min        1.500000\n",
      "25%       24.000000\n",
      "50%       50.900000\n",
      "75%       73.400000\n",
      "max       99.900000\n",
      "Name: Percentage, dtype: float64\n"
     ]
    }
   ],
   "source": [
    "print(student_data.describe())\n",
    "print(\"----------------------------------------------------------------------------\")\n",
    "print(student_data['Percentage'].describe())"
   ]
  },
  {
   "cell_type": "code",
   "execution_count": 65,
   "id": "985d5be0-dd33-4c85-8557-5840365e9376",
   "metadata": {},
   "outputs": [
    {
     "data": {
      "text/html": [
       "<div>\n",
       "<style scoped>\n",
       "    .dataframe tbody tr th:only-of-type {\n",
       "        vertical-align: middle;\n",
       "    }\n",
       "\n",
       "    .dataframe tbody tr th {\n",
       "        vertical-align: top;\n",
       "    }\n",
       "\n",
       "    .dataframe thead th {\n",
       "        text-align: right;\n",
       "    }\n",
       "</style>\n",
       "<table border=\"1\" class=\"dataframe\">\n",
       "  <thead>\n",
       "    <tr style=\"text-align: right;\">\n",
       "      <th></th>\n",
       "      <th>ID</th>\n",
       "      <th>Name</th>\n",
       "      <th>Percentage</th>\n",
       "    </tr>\n",
       "  </thead>\n",
       "  <tbody>\n",
       "    <tr>\n",
       "      <th>0</th>\n",
       "      <td>1</td>\n",
       "      <td>Sarge Brettoner</td>\n",
       "      <td>23.0</td>\n",
       "    </tr>\n",
       "    <tr>\n",
       "      <th>1</th>\n",
       "      <td>2</td>\n",
       "      <td>Helyn Schuchmacher</td>\n",
       "      <td>97.2</td>\n",
       "    </tr>\n",
       "    <tr>\n",
       "      <th>2</th>\n",
       "      <td>3</td>\n",
       "      <td>Giffer Garroch</td>\n",
       "      <td>76.2</td>\n",
       "    </tr>\n",
       "    <tr>\n",
       "      <th>3</th>\n",
       "      <td>4</td>\n",
       "      <td>Eduino Halladey</td>\n",
       "      <td>98.8</td>\n",
       "    </tr>\n",
       "    <tr>\n",
       "      <th>4</th>\n",
       "      <td>5</td>\n",
       "      <td>Deina Freemantle</td>\n",
       "      <td>45.6</td>\n",
       "    </tr>\n",
       "  </tbody>\n",
       "</table>\n",
       "</div>"
      ],
      "text/plain": [
       "   ID                Name  Percentage\n",
       "0   1     Sarge Brettoner        23.0\n",
       "1   2  Helyn Schuchmacher        97.2\n",
       "2   3      Giffer Garroch        76.2\n",
       "3   4     Eduino Halladey        98.8\n",
       "4   5    Deina Freemantle        45.6"
      ]
     },
     "execution_count": 65,
     "metadata": {},
     "output_type": "execute_result"
    }
   ],
   "source": [
    "student_data[[\"ID\",\"Name\",\"Percentage\"]].head()"
   ]
  },
  {
   "cell_type": "code",
   "execution_count": null,
   "id": "4744241d-aa8d-4234-872b-5c24147169f7",
   "metadata": {},
   "outputs": [],
   "source": []
  }
 ],
 "metadata": {
  "kernelspec": {
   "display_name": "Python 3 (ipykernel)",
   "language": "python",
   "name": "python3"
  },
  "language_info": {
   "codemirror_mode": {
    "name": "ipython",
    "version": 3
   },
   "file_extension": ".py",
   "mimetype": "text/x-python",
   "name": "python",
   "nbconvert_exporter": "python",
   "pygments_lexer": "ipython3",
   "version": "3.13.2"
  }
 },
 "nbformat": 4,
 "nbformat_minor": 5
}
